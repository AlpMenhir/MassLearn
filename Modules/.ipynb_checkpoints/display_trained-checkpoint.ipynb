{
 "cells": [
  {
   "cell_type": "code",
   "execution_count": 1,
   "id": "b6b2a737-3751-433c-a11d-324c86b18920",
   "metadata": {
    "tags": []
   },
   "outputs": [
    {
     "data": {
      "application/vnd.jupyter.widget-view+json": {
       "model_id": "873c132587f6471092f4be1b4a2ba359",
       "version_major": 2,
       "version_minor": 0
      },
      "text/plain": [
       "Button(description='Previous', style=ButtonStyle())"
      ]
     },
     "metadata": {},
     "output_type": "display_data"
    },
    {
     "data": {
      "application/vnd.jupyter.widget-view+json": {
       "model_id": "d6fcefee85054cbb8310f5e64b68c9c3",
       "version_major": 2,
       "version_minor": 0
      },
      "text/plain": [
       "Button(description='Next', style=ButtonStyle())"
      ]
     },
     "metadata": {},
     "output_type": "display_data"
    },
    {
     "ename": "NameError",
     "evalue": "name 'F' is not defined",
     "output_type": "error",
     "traceback": [
      "\u001b[1;31m---------------------------------------------------------------------------\u001b[0m",
      "\u001b[1;31mNameError\u001b[0m                                 Traceback (most recent call last)",
      "Cell \u001b[1;32mIn[1], line 34\u001b[0m\n\u001b[0;32m     31\u001b[0m button_next\u001b[38;5;241m.\u001b[39mon_click(on_button_clicked)\n\u001b[0;32m     32\u001b[0m button_prev\u001b[38;5;241m.\u001b[39mon_click(on_button_clicked)\n\u001b[1;32m---> 34\u001b[0m \u001b[43mupdate_plot\u001b[49m\u001b[43m(\u001b[49m\u001b[43m)\u001b[49m\n",
      "Cell \u001b[1;32mIn[1], line 8\u001b[0m, in \u001b[0;36mupdate_plot\u001b[1;34m()\u001b[0m\n\u001b[0;32m      7\u001b[0m \u001b[38;5;28;01mdef\u001b[39;00m \u001b[38;5;21mupdate_plot\u001b[39m():\n\u001b[1;32m----> 8\u001b[0m     Intensities \u001b[38;5;241m=\u001b[39m \u001b[43mF\u001b[49m[i]\n\u001b[0;32m      9\u001b[0m     \u001b[38;5;28mprint\u001b[39m(L[i])\n\u001b[0;32m     10\u001b[0m     plt\u001b[38;5;241m.\u001b[39mfigure() \n",
      "\u001b[1;31mNameError\u001b[0m: name 'F' is not defined"
     ]
    }
   ],
   "source": [
    "import matplotlib.pyplot as plt\n",
    "from IPython.display import display\n",
    "from ipywidgets import widgets\n",
    "import pickle\n",
    "with open(\"Cache/model_2001_trained.pickle\", \"rb\") as file:\n",
    "    pickle.dump(tool, file)\n",
    "    \n",
    "    \n",
    "    \n",
    "i = 0\n",
    "\n",
    "def update_plot():\n",
    "    Intensities = F[i]\n",
    "    print(L[i])\n",
    "    plt.figure() \n",
    "    plt.plot(Intensities) \n",
    "    plt.xlabel('rt axis') \n",
    "    plt.ylabel('Absolute Intensity') \n",
    "    plt.show()\n",
    "\n",
    "def on_button_clicked(b):\n",
    "    global i\n",
    "    if b.description == 'Next':\n",
    "        if i < len(F)-1:\n",
    "            i += 1\n",
    "    elif b.description == 'Previous':\n",
    "        if i > 0:\n",
    "            i -= 1\n",
    "    update_plot()\n",
    "\n",
    "button_next = widgets.Button(description=\"Next\")\n",
    "button_prev = widgets.Button(description=\"Previous\")\n",
    "\n",
    "display(button_prev, button_next)\n",
    "\n",
    "button_next.on_click(on_button_clicked)\n",
    "button_prev.on_click(on_button_clicked)\n",
    "\n",
    "update_plot()  # show the initial plot\n"
   ]
  }
 ],
 "metadata": {
  "kernelspec": {
   "display_name": "Python 3 (ipykernel)",
   "language": "python",
   "name": "python3"
  },
  "language_info": {
   "codemirror_mode": {
    "name": "ipython",
    "version": 3
   },
   "file_extension": ".py",
   "mimetype": "text/x-python",
   "name": "python",
   "nbconvert_exporter": "python",
   "pygments_lexer": "ipython3",
   "version": "3.10.11"
  }
 },
 "nbformat": 4,
 "nbformat_minor": 5
}
